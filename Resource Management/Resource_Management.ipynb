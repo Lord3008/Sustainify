{
  "cells": [
    {
      "cell_type": "code",
      "execution_count": null,
      "metadata": {
        "colab": {
          "base_uri": "https://localhost:8080/"
        },
        "id": "OO3JMpES5Kze",
        "outputId": "efee825a-8a96-4547-b2a4-cbc6c24dc648"
      },
      "outputs": [],
      "source": [
        "!pip install gradio"
      ]
    },
    {
      "cell_type": "code",
      "execution_count": 8,
      "metadata": {
        "colab": {
          "base_uri": "https://localhost:8080/",
          "height": 646
        },
        "id": "Nkccetvk6ymF",
        "outputId": "5a36d472-bd26-40e2-9540-872ede423461"
      },
      "outputs": [
        {
          "name": "stdout",
          "output_type": "stream",
          "text": [
            "Running Gradio in a Colab notebook requires sharing enabled. Automatically setting `share=True` (you can turn this off by setting `share=False` in `launch()` explicitly).\n",
            "\n",
            "Colab notebook detected. To show errors in colab notebook, set debug=True in launch()\n",
            "* Running on public URL: https://ccb63719645be3f588.gradio.live\n",
            "\n",
            "This share link expires in 72 hours. For free permanent hosting and GPU upgrades, run `gradio deploy` from the terminal in the working directory to deploy to Hugging Face Spaces (https://huggingface.co/spaces)\n"
          ]
        },
        {
          "data": {
            "text/html": [
              "<div><iframe src=\"https://ccb63719645be3f588.gradio.live\" width=\"100%\" height=\"500\" allow=\"autoplay; camera; microphone; clipboard-read; clipboard-write;\" frameborder=\"0\" allowfullscreen></iframe></div>"
            ],
            "text/plain": [
              "<IPython.core.display.HTML object>"
            ]
          },
          "metadata": {},
          "output_type": "display_data"
        }
      ],
      "source": [
        "import gradio as gr\n",
        "from google import genai\n",
        "\n",
        "# Initialize Gemini AI Client\n",
        "client = genai.Client(api_key=\"####################\")\n",
        "\n",
        "class AIAgent:\n",
        "    def __init__(self):\n",
        "        self.client = client\n",
        "\n",
        "    def analyze_resources(self, country, state, energy_usage, water_usage, unemployment_rate, other_factors):\n",
        "        prompt = (\n",
        "            f\"Resource Management Analysis:\\n\"\n",
        "            f\"📌 **Country:** {country}\\n\"\n",
        "            f\"📍 **State:** {state}\\n\"\n",
        "            f\"⚡ Energy Usage (Last 3 Years): {energy_usage}\\n\"\n",
        "            f\"💧 **Water Availability & Usage**: {water_usage}\\n\"\n",
        "            f\"📉 **Unemployment Rate**: {unemployment_rate}%\\n\"\n",
        "            f\"📝 **Additional Factors**: {('None' if not other_factors else other_factors)}\\n\\n\"\n",
        "            f\"**AI-Driven Analysis & Recommendations**:\\n\"\n",
        "            f\"- **🔹 Resource Usage Insights:** Provide a trend summary on resource consumption and efficiency.\\n\"\n",
        "            f\"- ⚠️ **Challenges Identified:** Highlight major inefficiencies or risks.\\n\"\n",
        "            f\"- ✅ **Actionable Solutions:** Recommend policies and actions for better resource allocation and sustainability.\\n\\n\"\n",
        "            \"Ensure responses are clear, concise, and structured in bullet points.\"\n",
        "        )\n",
        "\n",
        "        response = self.client.models.generate_content(model=\"gemini-2.0-flash\", contents=prompt)\n",
        "        return response.text\n",
        "\n",
        "# Instantiate AI Agent\n",
        "ai_agent = AIAgent()\n",
        "\n",
        "# Create Gradio interface\n",
        "iface = gr.Interface(\n",
        "    fn=ai_agent.analyze_resources,\n",
        "    inputs=[\n",
        "        gr.Textbox(label=\"🌍 Country\"),\n",
        "        gr.Textbox(label=\"🏙 State\"),\n",
        "        gr.Textbox(label=\"⚡ Energy Usage (Last 3 Years, MWh)\"),\n",
        "        gr.Textbox(label=\"💧 Water Availability & Usage (cubic meters)\"),\n",
        "        gr.Slider(0, 100, label=\"📉 Unemployment Rate (%)\"),\n",
        "        gr.Textbox(label=\"📝 Additional Factors (Optional)\", placeholder=\"E.g., pollution, infrastructure issues\"),\n",
        "    ],\n",
        "    outputs=gr.Markdown(label=\"📊 AI-Powered Resource Management Report\"),\n",
        "    title=\"🌍 AI-Driven Resource Management Analyzer\",\n",
        "    description=\"📊 Enter data to get **insights, challenges, and solutions** for efficient resource allocation in your country or state.\",\n",
        ")\n",
        "\n",
        "if __name__ == \"__main__\":\n",
        "    iface.launch()\n"
      ]
    },
    {
      "cell_type": "code",
      "execution_count": null,
      "metadata": {
        "id": "-4ORRgPt8SiX"
      },
      "outputs": [],
      "source": []
    }
  ],
  "metadata": {
    "colab": {
      "provenance": []
    },
    "kernelspec": {
      "display_name": "Python 3",
      "name": "python3"
    },
    "language_info": {
      "name": "python"
    }
  },
  "nbformat": 4,
  "nbformat_minor": 0
}
